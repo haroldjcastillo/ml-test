{
 "cells": [
  {
   "cell_type": "markdown",
   "metadata": {
    "collapsed": true
   },
   "source": [
    "# Linear regression with one variable\n",
    "\n",
    "### Based on this [Course](https://www.coursera.org/learn/machine-learning)"
   ]
  },
  {
   "cell_type": "markdown",
   "metadata": {},
   "source": [
    "In this part of this exercise, you will implement linear regression with one variable to predict profits for a food truck. Suppose you are the CEO of a restaurant franchise and are considering di\u000b",
    "erent cities for opening a new outlet. The chain already has trucks in various cities and you have data for profits and populations from the cities.\n",
    "\n",
    "You would like to use this data to help you select which city to expand\n",
    "to next.\n",
    "\n",
    "The file ex1data1.txt contains the dataset for our linear regression prob-\n",
    "lem. The first column is the population of a city and the second column is\n",
    "the profit of a food truck in that city. A negative value for pro\f",
    "t indicates a loss.\n",
    "\n",
    "The ex1.m script has already been set up to load this data for you."
   ]
  },
  {
   "cell_type": "markdown",
   "metadata": {},
   "source": [
    "## Basic function"
   ]
  },
  {
   "cell_type": "code",
   "execution_count": 2,
   "metadata": {},
   "outputs": [
    {
     "name": "stdout",
     "output_type": "stream",
     "text": [
      "Running warmUpExercise...\n",
      "5x5 Identity Matrix: \n",
      "[[ 1.  0.  0.  0.  0.]\n",
      " [ 0.  1.  0.  0.  0.]\n",
      " [ 0.  0.  1.  0.  0.]\n",
      " [ 0.  0.  0.  1.  0.]\n",
      " [ 0.  0.  0.  0.  1.]]\n"
     ]
    }
   ],
   "source": [
    "%matplotlib inline\n",
    "import numpy as np\n",
    "from plotData import plotData\n",
    "import matplotlib.pyplot as plt\n",
    "from warmUpExercise import warmUpExercise\n",
    "from computeCost import computeCost\n",
    "from gradientDescent import gradientDescent\n",
    "\n",
    "print('Running warmUpExercise...')\n",
    "print('5x5 Identity Matrix: ');\n",
    "print(warmUpExercise(5))"
   ]
  },
  {
   "cell_type": "markdown",
   "metadata": {},
   "source": [
    "## Plotting"
   ]
  },
  {
   "cell_type": "code",
   "execution_count": 2,
   "metadata": {},
   "outputs": [
    {
     "name": "stdout",
     "output_type": "stream",
     "text": [
      "Plotting Data ...\n"
     ]
    },
    {
     "data": {
      "image/png": "[encoded data removed]",
      "text/plain": [
       "<matplotlib.figure.Figure at 0x10e0d30f0>"
      ]
     },
     "metadata": {},
     "output_type": "display_data"
    }
   ],
   "source": [
    "print('Plotting Data ...')\n",
    "data = np.loadtxt('ex1data1.txt', delimiter=\",\")\n",
    "X = data[:, 0]\n",
    "y = data[:, 1]\n",
    "m = len(y); # number of training examples\n",
    "\n",
    "# Plot Data\n",
    "# Note: You have to complete the code in plotData.py\n",
    "plotData(X, y)"
   ]
  },
  {
   "cell_type": "markdown",
   "metadata": {},
   "source": [
    "## Cost and Gradient descent"
   ]
  },
  {
   "cell_type": "code",
   "execution_count": 57,
   "metadata": {},
   "outputs": [
    {
     "name": "stdout",
     "output_type": "stream",
     "text": [
      "Testing the cost function...\n",
      "With theta = [0 ; 0]\n",
      "Cost computed =  [ 32.07273388]\n",
      "Expected cost value (approx) 32.07\n"
     ]
    }
   ],
   "source": [
    "X = np.c_[np.ones((m,)), data[:, 0]] # Add a column of ones to x\n",
    "theta = np.zeros((2, 1)) # initialize fitting parameters\n",
    "\n",
    "# Some gradient descent settings\n",
    "iterations = 1500;\n",
    "alpha = 0.01;\n",
    "\n",
    "print('Testing the cost function...')\n",
    "# compute and display initial cost\n",
    "J = computeCost(X, y, theta)\n",
    "print('With theta = [0 ; 0]')\n",
    "print('Cost computed = ', J)\n",
    "print('Expected cost value (approx) 32.07')"
   ]
  },
  {
   "cell_type": "code",
   "execution_count": 75,
   "metadata": {},
   "outputs": [
    {
     "name": "stdout",
     "output_type": "stream",
     "text": [
      "Running Gradient Descent...\n",
      "Theta found by gradient descent:  [-3.89578085] [ 1.19303364]\n",
      "Expected theta values (approx)\n",
      " -3.6303\n",
      "  1.1664\n",
      "\n",
      "\n"
     ]
    }
   ],
   "source": [
    "print('Running Gradient Descent...')\n",
    "# run gradient descent\n",
    "theta, j_history = gradientDescent(X, y, theta, alpha, iterations)\n",
    "\n",
    "# print theta to screen\n",
    "print('Theta found by gradient descent: ', theta[0], theta[1])\n",
    "print('Expected theta values (approx)\\n -3.6303\\n  1.1664\\n\\n')"
   ]
  },
  {
   "cell_type": "code",
   "execution_count": 77,
   "metadata": {},
   "outputs": [
    {
     "data": {
      "image/png": "[encoded data removed]",
      "text/plain": [
       "<matplotlib.figure.Figure at 0x10f8635f8>"
      ]
     },
     "metadata": {},
     "output_type": "display_data"
    }
   ],
   "source": [
    "for i in range(X.shape[1]):\n",
    "    y_predict = theta[0] + theta[1] * X\n",
    "\n",
    "plt.figure()\n",
    "plt.plot(X[:, 1], y, '.')\n",
    "plt.plot(X, y_predict, 'k-')\n",
    "plt.show()"
   ]
  }
 ],
 "metadata": {
  "kernelspec": {
   "display_name": "Python 3",
   "language": "python",
   "name": "python3"
  },
  "language_info": {
   "codemirror_mode": {
    "name": "ipython",
    "version": 3
   },
   "file_extension": ".py",
   "mimetype": "text/x-python",
   "name": "python",
   "nbconvert_exporter": "python",
   "pygments_lexer": "ipython3",
   "version": "3.6.3"
  }
 },
 "nbformat": 4,
 "nbformat_minor": 1
}
