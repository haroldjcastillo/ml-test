{
 "cells": [
  {
   "cell_type": "markdown",
   "metadata": {
    "collapsed": true
   },
   "source": [
    "# Linear regression with multiple variables\n",
    "\n",
    "### Based on this [Course](https://www.coursera.org/learn/machine-learning)"
   ]
  },
  {
   "cell_type": "markdown",
   "metadata": {},
   "source": [
    "## Feature Normalization\n",
    "\n",
    "\\begin{equation*}\n",
    "x_i := \\frac{x_i - \\mu_i}{S_i}\n",
    "\\end{equation*}"
   ]
  },
  {
   "cell_type": "code",
   "execution_count": 75,
   "metadata": {},
   "outputs": [
    {
     "name": "stdout",
     "output_type": "stream",
     "text": [
      "Loading data ...\n",
      "First 10 examples from the dataset: \n",
      "x = [2104 3], y = 329900\n",
      "x = [1600 3], y = 329900\n",
      "x = [2400 3], y = 329900\n",
      "x = [1416 2], y = 329900\n",
      "x = [3000 4], y = 329900\n",
      "x = [1985 4], y = 329900\n",
      "x = [1534 3], y = 329900\n",
      "x = [1427 3], y = 329900\n",
      "x = [1380 3], y = 329900\n",
      "x = [1494 3], y = 329900\n"
     ]
    }
   ],
   "source": [
    "%matplotlib inline\n",
    "import numpy as np\n",
    "import matplotlib.pyplot as plt\n",
    "from featureNormalize import featureNormalize\n",
    "from gradientDescent import gradientDescent\n",
    "from normalEqn import normalEqn\n",
    "\n",
    "print('Loading data ...')\n",
    "data = np.loadtxt('ex1data2.txt', delimiter=\",\")\n",
    "X = data[:, :2]\n",
    "y = data[:, 2]\n",
    "m = len(y);\n",
    "\n",
    "print('First 10 examples from the dataset: ')\n",
    "for i in range(10):\n",
    "    print(\"x = [{:.0f} {:.0f}], y = {:.0f}\".format(X[i, 0], X[i, 1], y[1]))"
   ]
  },
  {
   "cell_type": "markdown",
   "metadata": {},
   "source": [
    "#### Scale features and set them to zero mean"
   ]
  },
  {
   "cell_type": "code",
   "execution_count": 76,
   "metadata": {},
   "outputs": [
    {
     "name": "stdout",
     "output_type": "stream",
     "text": [
      "Normalizing Features ...\n"
     ]
    }
   ],
   "source": [
    "print('Normalizing Features ...')\n",
    "X, mu, sigma = featureNormalize(X)"
   ]
  },
  {
   "cell_type": "code",
   "execution_count": 77,
   "metadata": {},
   "outputs": [],
   "source": [
    "# Add intercept term to X\n",
    "X = np.c_[np.ones((m, 1)), X]"
   ]
  },
  {
   "cell_type": "markdown",
   "metadata": {},
   "source": [
    "## Gradient Descent"
   ]
  },
  {
   "cell_type": "code",
   "execution_count": 78,
   "metadata": {},
   "outputs": [
    {
     "name": "stdout",
     "output_type": "stream",
     "text": [
      "Running gradient descent ...\n"
     ]
    }
   ],
   "source": [
    "print('Running gradient descent ...');\n",
    "\n",
    "# Choose some alpha value\n",
    "alpha = 0.01\n",
    "num_iters = 300\n",
    "\n",
    "# Init Theta and Run Gradient Descent \n",
    "theta = np.zeros((3, 1));\n",
    "theta, J_history = gradientDescent(X, y, theta, alpha, num_iters);"
   ]
  },
  {
   "cell_type": "markdown",
   "metadata": {},
   "source": [
    "### Plot the convergence graph"
   ]
  },
  {
   "cell_type": "code",
   "execution_count": 79,
   "metadata": {},
   "outputs": [
    {
     "data": {
      "text/plain": [
       "Text(0,0.5,'Cost J')"
      ]
     },
     "execution_count": 79,
     "metadata": {},
     "output_type": "execute_result"
    },
    {
     "data": {
      "image/png": "[encoded data removed]",
      "text/plain": [
       "<matplotlib.figure.Figure at 0x10f7d9d30>"
      ]
     },
     "metadata": {},
     "output_type": "display_data"
    }
   ],
   "source": [
    "plt.plot(range(J_history.size), J_history, \"-b\", linewidth=2 )\n",
    "plt.xlabel('Number of iterations')\n",
    "plt.ylabel('Cost J')"
   ]
  },
  {
   "cell_type": "code",
   "execution_count": 80,
   "metadata": {},
   "outputs": [
    {
     "name": "stdout",
     "output_type": "stream",
     "text": [
      "Theta computed from gradient descent: \n",
      "323718.518396, 93537.029129, 8412.362766\n"
     ]
    }
   ],
   "source": [
    "# Display gradient descent's result\n",
    "print('Theta computed from gradient descent: ')\n",
    "print(\"{:f}, {:f}, {:f}\".format(theta[0,0], theta[1,0], theta[2,0]))"
   ]
  },
  {
   "cell_type": "markdown",
   "metadata": {},
   "source": [
    "## Estimate the price of a 1650 sq-ft, 3 br house"
   ]
  },
  {
   "cell_type": "code",
   "execution_count": 81,
   "metadata": {},
   "outputs": [
    {
     "name": "stdout",
     "output_type": "stream",
     "text": [
      "Predicted price of a 1650 sq-ft, 3 br house (using gradient descent):\n",
      " $280,094.92\n"
     ]
    }
   ],
   "source": [
    "# Recall that the first column of X is all-ones. Thus, it does\n",
    "# not need to be normalized.\n",
    "area_norm = (1650 - float(mu[:,0])) / float(sigma[:,0])\n",
    "br_norm = (3 - float(mu[:,1]))/float(sigma[:,1])\n",
    "house = np.array([1, area_norm, br_norm])\n",
    "\n",
    "price = np.array(house).dot(theta)\n",
    "print(\"Predicted price of a 1650 sq-ft, 3 br house (using gradient descent):\\n ${:,.2f}\".format(price[0]))"
   ]
  },
  {
   "cell_type": "markdown",
   "metadata": {},
   "source": [
    "# Normal Equation\n",
    "\n",
    "\\begin{equation*}\n",
    "\\theta = (X^T X)^{-1}X^T y\n",
    "\\end{equation*}"
   ]
  },
  {
   "cell_type": "code",
   "execution_count": 82,
   "metadata": {},
   "outputs": [
    {
     "name": "stdout",
     "output_type": "stream",
     "text": [
      "Theta computed from the normal equations:\n",
      "340412.659574, 109447.796470, -6578.354854\n"
     ]
    }
   ],
   "source": [
    "X = np.c_[np.ones((m, 1)), data[:,:2]]\n",
    "y = data[:,2]\n",
    "theta = normalEqn(X, y)\n",
    "print('Theta computed from the normal equations:')\n",
    "print(\"{:f}, {:f}, {:f}\".format(theta[0], theta[1], theta[2]))"
   ]
  },
  {
   "cell_type": "markdown",
   "metadata": {},
   "source": [
    "## Estimate the price of a 1650 sq-ft, 3 br house"
   ]
  },
  {
   "cell_type": "code",
   "execution_count": 83,
   "metadata": {},
   "outputs": [
    {
     "name": "stdout",
     "output_type": "stream",
     "text": [
      "Predicted price of a 1650 sq-ft, 3 br house (using normal equations):\n",
      " $180,909,541.77\n"
     ]
    }
   ],
   "source": [
    "house = np.array([1, 1650, 3])\n",
    "price = np.array(house).dot(theta)\n",
    "\n",
    "print(\"Predicted price of a 1650 sq-ft, 3 br house (using normal equations):\\n ${:,.2f}\".format(price))"
   ]
  }
 ],
 "metadata": {
  "kernelspec": {
   "display_name": "Python 3",
   "language": "python",
   "name": "python3"
  },
  "language_info": {
   "codemirror_mode": {
    "name": "ipython",
    "version": 3
   },
   "file_extension": ".py",
   "mimetype": "text/x-python",
   "name": "python",
   "nbconvert_exporter": "python",
   "pygments_lexer": "ipython3",
   "version": "3.6.3"
  }
 },
 "nbformat": 4,
 "nbformat_minor": 1
}
