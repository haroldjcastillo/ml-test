{
 "cells": [
  {
   "cell_type": "markdown",
   "metadata": {
    "collapsed": true
   },
   "source": [
    "# Logistic regression\n",
    "\n",
    "### Based on this [Course](https://www.coursera.org/learn/machine-learning)"
   ]
  },
  {
   "cell_type": "markdown",
   "metadata": {},
   "source": [
    "## Sigmoid function\n",
    " \n",
    "\\begin{equation*}\n",
    "h = g(X\\theta)\n",
    "\\end{equation*}\n",
    "\n",
    "\n",
    "\\begin{equation*}\n",
    "h_\\theta = \\frac{1}{1 + e^{-\\theta^{T}X}}\n",
    "\\end{equation*}\n",
    "\n",
    "## Cost function\n",
    "\n",
    "\\begin{equation*}\n",
    "J = \\frac{1}{m} \\sum_{i=1}^m [-y^{(i)} log(h_\\theta (X^{(i)})) - (1 - y^{(i)}) log(1 - h_\\theta (X^{(i)}))]\n",
    "\\end{equation*}\n",
    "\n",
    "## Gradient descent\n",
    "\n",
    "\\begin{equation*}\n",
    "\\frac{\\delta(\\theta)}{\\delta(\\theta_j)} = \\frac{1}{m} \\sum_{i=1}^m (h_\\theta (x^{(i)}) - y^{(i)})x_j ^{(i)}\n",
    "\\end{equation*}"
   ]
  },
  {
   "cell_type": "code",
   "execution_count": 1,
   "metadata": {},
   "outputs": [
    {
     "name": "stdout",
     "output_type": "stream",
     "text": [
      "Loading data ...\n",
      "The first two columns contains the exam scores and the third column contains the label.\n"
     ]
    }
   ],
   "source": [
    "%matplotlib inline\n",
    "import numpy as np\n",
    "import matplotlib.pyplot as plt\n",
    "from plotData import plotData\n",
    "import plotDecisionBoundary as pdb\n",
    "from costFunction import costFunction\n",
    "from scipy.optimize import fmin\n",
    "from scipy.optimize import fmin_bfgs\n",
    "\n",
    "print('Loading data ...')\n",
    "print('The first two columns contains the exam scores and the third column contains the label.');\n",
    "data = np.loadtxt('ex2data1.txt', delimiter=\",\")\n",
    "X = data[:, :2]\n",
    "y = data[:, 2]"
   ]
  },
  {
   "cell_type": "markdown",
   "metadata": {},
   "source": [
    "## Plotting"
   ]
  },
  {
   "cell_type": "code",
   "execution_count": 2,
   "metadata": {},
   "outputs": [
    {
     "data": {
      "text/plain": [
       "<matplotlib.legend.Legend at 0x11072ce80>"
      ]
     },
     "execution_count": 2,
     "metadata": {},
     "output_type": "execute_result"
    },
    {
     "data": {
      "image/png": "[encoded data removed]",
      "text/plain": [
       "<matplotlib.figure.Figure at 0x105ea9fd0>"
      ]
     },
     "metadata": {},
     "output_type": "display_data"
    }
   ],
   "source": [
    "plt, p1, p2 = plotData(X, y)\n",
    "plt.xlabel('Exam 1 score')\n",
    "plt.ylabel('Exam 2 score')\n",
    "plt.legend((p1, p2), ('Admitted', 'Not Admitted'), numpoints=1, handlelength=0)"
   ]
  },
  {
   "cell_type": "code",
   "execution_count": 3,
   "metadata": {},
   "outputs": [],
   "source": [
    "#  Setup the data matrix appropriately, and add ones for the intercept term\n",
    "m, n = X.shape\n",
    "X = np.column_stack((np.ones((m,1)), X)) \n",
    "# Initialize fitting parameters\n",
    "theta = np.zeros((n + 1, 1))\n",
    "cost, grad = costFunction(theta, X, y)"
   ]
  },
  {
   "cell_type": "markdown",
   "metadata": {},
   "source": [
    "### Testing"
   ]
  },
  {
   "cell_type": "code",
   "execution_count": 4,
   "metadata": {},
   "outputs": [
    {
     "name": "stdout",
     "output_type": "stream",
     "text": [
      "Cost at initial theta (zeros): 0.693147\n",
      "Expected cost (approx): 0.693\n",
      "\n",
      "Gradient at initial theta (zeros): \n",
      "\n",
      "[[ -0.1       ]\n",
      " [-12.00921659]\n",
      " [-11.26284221]]\n",
      "Expected gradients (approx):\n",
      " -0.1000\n",
      " -12.0092\n",
      " -11.2628\n",
      "\n"
     ]
    }
   ],
   "source": [
    "print('Cost at initial theta (zeros): {:f}'.format(cost))\n",
    "print('Expected cost (approx): 0.693\\n')\n",
    "print('Gradient at initial theta (zeros): \\n')\n",
    "print(grad)\n",
    "print('Expected gradients (approx):\\n -0.1000\\n -12.0092\\n -11.2628\\n')"
   ]
  },
  {
   "cell_type": "markdown",
   "metadata": {},
   "source": [
    "## Optimizing using fmin (and fmin_bfgs)"
   ]
  },
  {
   "cell_type": "code",
   "execution_count": 10,
   "metadata": {},
   "outputs": [],
   "source": [
    "#myargs=(X, y)\n",
    "#theta = fmin(costFunction, x0=theta, args=myargs)\n",
    "#theta, cost_at_theta, _, _, _, _, _ = fmin_bfgs(cf.costFunction, x0=theta, args=myargs, full_output=True)\n",
    "\n",
    "# Print theta to screen\n",
    "#print('Cost at theta found by fmin: {:f}'.format(cost_at_theta))\n",
    "#print('theta:'),\n",
    "#print(theta)\n",
    "\n",
    "# Plot Boundary\n",
    "#plt = pdb.plotDecisionBoundary(theta, X, y)"
   ]
  }
 ],
 "metadata": {
  "kernelspec": {
   "display_name": "Python 3",
   "language": "python",
   "name": "python3"
  },
  "language_info": {
   "codemirror_mode": {
    "name": "ipython",
    "version": 3
   },
   "file_extension": ".py",
   "mimetype": "text/x-python",
   "name": "python",
   "nbconvert_exporter": "python",
   "pygments_lexer": "ipython3",
   "version": "3.6.3"
  }
 },
 "nbformat": 4,
 "nbformat_minor": 1
}
